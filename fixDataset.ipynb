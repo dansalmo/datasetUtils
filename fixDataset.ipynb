{
 "cells": [
  {
   "cell_type": "code",
   "execution_count": 201,
   "metadata": {
    "collapsed": false
   },
   "outputs": [
    {
     "name": "stdout",
     "output_type": "stream",
     "text": [
      "Renamed duplicate column Q9 to Q9 (1)\n",
      "Renamed duplicate column Q8 to Q8 (1)\n",
      "Renamed duplicate column Q7 to Q7 (1)\n",
      "Renamed duplicate column Q7 to Q7 (2)\n",
      "Renamed duplicate column Q7 to Q7 (3)\n",
      "3 Duplicate header rows cleaned:\n",
      "1 Blank rows cleaned:\n",
      "output file is: Documents/compellon/Test_Files/Hotel Satisfaction-500-fubar-fixed.csv\n"
     ]
    }
   ],
   "source": [
    "'''\n",
    "Converts all strings to UTF-8\n",
    "Replaces returns ('\\r' or '\\n') with spaces.\n",
    "Renames/reports duplicate colums\n",
    "Removes/reports blank rows\n",
    "Removes/reports duplicate header rows\n",
    "''' \n",
    "\n",
    "import csv\n",
    "inFile = 'fileName.csv'\n",
    "outFile = '.csv'.join(inFile.split('.csv')[:-1])+'-fixed.csv'\n",
    "blankRows, headerRows = 0, 0\n",
    "\n",
    "def cleanRow(row):\n",
    "    # replace line feeds and re-encode as UTF-8\n",
    "    for i, column in enumerate(row):\n",
    "        row[i] = column.replace('\\r', ' ').replace('\\n', ' ').decode('UTF-8','ignore')\n",
    "    return row\n",
    "\n",
    "with open(inFile,'rU') as fin, open (outFile,'w') as fout:\n",
    "\n",
    "    header = next(csv.reader(fin))\n",
    "    newHeader = cleanRow(header)[:]\n",
    "    colNames = dict.fromkeys(header, [])\n",
    "    for i, n in enumerate(header):\n",
    "        if colNames[n]:\n",
    "            newHeader[i] = '{} ({})'.format(n, len(colNames[n]))\n",
    "            print 'Renamed duplicate column {} to {}'.format(n, newHeader[i])\n",
    "\n",
    "        colNames[n] = colNames[n] + [n]\n",
    "    writer = csv.writer(fout)\n",
    "    writer.writerow(newHeader)\n",
    "\n",
    "    for n, row in enumerate(csv.reader(fin)):\n",
    "        rowOk = True\n",
    "        cleanRow(row)\n",
    "\n",
    "        #remove row if blank\n",
    "        if not sum(len(c) for c in row) > 0:\n",
    "            blankRows += 1\n",
    "            rowOk = False\n",
    "\n",
    "        #remove duplicate header rows\n",
    "        if row == header:\n",
    "            headerRows += 1\n",
    "            rowOk = False\n",
    "        \n",
    "        if rowOk:\n",
    "            writer.writerow(row)\n",
    "        \n",
    "if headerRows > 0:\n",
    "    print headerRows, 'Duplicate header rows cleaned:'\n",
    "\n",
    "if blankRows > 0:\n",
    "    print blankRows, 'Blank rows cleaned:'\n",
    "\n",
    "print 'output file is:', outFile\n"
   ]
  },
  {
   "cell_type": "code",
   "execution_count": null,
   "metadata": {
    "collapsed": true
   },
   "outputs": [],
   "source": []
  }
 ],
 "metadata": {
  "kernelspec": {
   "display_name": "Python 2",
   "language": "python",
   "name": "python2"
  },
  "language_info": {
   "codemirror_mode": {
    "name": "ipython",
    "version": 2
   },
   "file_extension": ".py",
   "mimetype": "text/x-python",
   "name": "python",
   "nbconvert_exporter": "python",
   "pygments_lexer": "ipython2",
   "version": "2.7.10"
  }
 },
 "nbformat": 4,
 "nbformat_minor": 0
}
