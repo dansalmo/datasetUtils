{
 "cells": [
  {
   "cell_type": "code",
   "execution_count": 283,
   "metadata": {
    "collapsed": false
   },
   "outputs": [
    {
     "name": "stdout",
     "output_type": "stream",
     "text": [
      "output file is: fileName-fixed.csv\n"
     ]
    }
   ],
   "source": [
    "'''\n",
    "Converts all strings to UTF-8\n",
    "Removes HTML tags\n",
    "Replaces returns ('\\r' or '\\n') with spaces.\n",
    "Renames/reports duplicate colums\n",
    "Removes/reports blank rows\n",
    "Removes/reports duplicate header rows\n",
    "''' \n",
    "\n",
    "import csv\n",
    "from HTMLParser import HTMLParser\n",
    "inFile = 'fileName.csv'\n",
    "outFile = '.csv'.join(inFile.split('.csv')[:-1])+'-fixed.csv'\n",
    "blankRows, headerRows = 0, 0\n",
    "\n",
    "class MLStripper(HTMLParser):\n",
    "    def __init__(self):\n",
    "        self.reset()\n",
    "        self.fed = []\n",
    "    def handle_data(self, d):\n",
    "        self.fed.append(d)\n",
    "    def get_data(self):\n",
    "        return ''.join(self.fed)\n",
    "\n",
    "def strip_tags(html):\n",
    "    s = MLStripper()\n",
    "    s.feed(html)\n",
    "    return s.get_data()\n",
    "\n",
    "def cleanRow(row):\n",
    "    # remove HTML and replace line feeds\n",
    "    return [strip_tags(column).replace('\\r', ' ').replace('\\n', ' ') for column in row]\n",
    "\n",
    "with open(inFile,'rUb') as fin, open (outFile,'wb') as fout:\n",
    "    while(True):\n",
    "        header = next(csv.reader(fin))\n",
    "        #skip blank rows above header\n",
    "        if sum(len(c) for c in header) > 0:\n",
    "            break\n",
    "        blankRows += 1\n",
    "    \n",
    "    newHeader = cleanRow(header)[:]\n",
    "    colNames = dict.fromkeys(header, [])\n",
    "    for i, n in enumerate(header):\n",
    "        if colNames[n]:\n",
    "            newHeader[i] = '{} ({})'.format(n, len(colNames[n]))\n",
    "            print 'Renamed duplicate column {} to {}'.format(n, newHeader[i])\n",
    "\n",
    "        colNames[n] = colNames[n] + [n]\n",
    "    writer = csv.writer(fout)\n",
    "    writer.writerow(newHeader)\n",
    "\n",
    "    for n, row in enumerate(csv.reader(fin)):\n",
    "        rowOk = True\n",
    "        cleanRow(row)\n",
    "\n",
    "        #skip row if blank\n",
    "        if not sum(len(c) for c in row) > 0:\n",
    "            blankRows += 1\n",
    "            rowOk = False\n",
    "\n",
    "        #skip duplicate header rows\n",
    "        if row == header:\n",
    "            headerRows += 1\n",
    "            rowOk = False\n",
    "\n",
    "        #do not write skipped rows\n",
    "        if rowOk:\n",
    "            try:\n",
    "                writer.writerow(row)\n",
    "            except UnicodeEncodeError:\n",
    "                writer.writerow([s.encode('utf-8') for s in row])\n",
    "        \n",
    "if headerRows > 0:\n",
    "    print headerRows, 'Duplicate header rows cleaned:'\n",
    "\n",
    "if blankRows > 0:\n",
    "    print blankRows, 'Blank rows cleaned:'\n",
    "\n",
    "print 'output file is:', outFile\n"
   ]
  }
 ],
 "metadata": {
  "kernelspec": {
   "display_name": "Python 2",
   "language": "python",
   "name": "python2"
  },
  "language_info": {
   "codemirror_mode": {
    "name": "ipython",
    "version": 2
   },
   "file_extension": ".py",
   "mimetype": "text/x-python",
   "name": "python",
   "nbconvert_exporter": "python",
   "pygments_lexer": "ipython2",
   "version": "2.7.10"
  }
 },
 "nbformat": 4,
 "nbformat_minor": 0
}
