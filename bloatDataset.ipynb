{
 "cells": [
  {
   "cell_type": "code",
   "execution_count": 3,
   "metadata": {
    "collapsed": false
   },
   "outputs": [],
   "source": [
    "'''\n",
    "    bloatDataset\n",
    "    automatically expands a data set to 2x more rows, cols, and unique values.\n",
    "    duplicated coloumn names and values will be appended with \"-b\" to make them unique\n",
    "    output file will have \"-bloated\" appended to the name.\n",
    "    additional \"blank\" values can be defines in BLANKS so they are not touched\n",
    "'''\n",
    "\n",
    "import csv\n",
    "\n",
    "inFile = 'inputFile.csv'\n",
    "outFile = '.csv'.join(inFile.split('.csv')[:-1])+'-bloated.csv'\n",
    "BLANKS = ['']\n",
    "\n",
    "with open(inFile,'r') as fin, open (outFile,'w') as fout:\n",
    "    writer = csv.writer(fout)\n",
    "\n",
    "    header = next(csv.reader(fin))\n",
    "\n",
    "    writer.writerow(sum(zip(header, [col + '-b' for col in header]), ()))\n",
    "    \n",
    "    for row in csv.reader(fin):\n",
    "        writer.writerow(sum(zip(row, row), ()))\n",
    "        writer.writerow(sum(zip(row, [col + '-b' if col not in BLANKS else '' for col in row]), ()))\n"
   ]
  },
  {
   "cell_type": "code",
   "execution_count": null,
   "metadata": {
    "collapsed": true
   },
   "outputs": [],
   "source": []
  }
 ],
 "metadata": {
  "kernelspec": {
   "display_name": "Python 2",
   "language": "python",
   "name": "python2"
  },
  "language_info": {
   "codemirror_mode": {
    "name": "ipython",
    "version": 2
   },
   "file_extension": ".py",
   "mimetype": "text/x-python",
   "name": "python",
   "nbconvert_exporter": "python",
   "pygments_lexer": "ipython2",
   "version": "2.7.10"
  }
 },
 "nbformat": 4,
 "nbformat_minor": 0
}
